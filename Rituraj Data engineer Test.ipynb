{
 "cells": [
  {
   "cell_type": "code",
   "execution_count": 4,
   "id": "f505d5f1",
   "metadata": {},
   "outputs": [
    {
     "name": "stdout",
     "output_type": "stream",
     "text": [
      "Transforming TMX data...\n",
      "Loading data into the database...\n",
      "ETL process completed successfully!\n"
     ]
    }
   ],
   "source": [
    "import os\n",
    "import sqlite3\n",
    "import requests\n",
    "import gzip\n",
    "import xml.etree.ElementTree as ET\n",
    "\n",
    "# Define namespaces\n",
    "namespaces = {\n",
    "    'tmx': 'http://www.lisa.org/tmx14'\n",
    "}\n",
    "\n",
    "# Define the TMX file URL\n",
    "tmx_url = \"https://opus.nlpl.eu/download.php?f=UN/v20090831/tmx/ar-en.tmx.gz\"\n",
    "tmx_file_path = \"ar-en.tmx.gz\"\n",
    "\n",
    "# Download the TMX file\n",
    "def download_tmx_file(url, file_path):\n",
    "    response = requests.get(url)\n",
    "    with open(file_path, 'wb') as f:\n",
    "        f.write(response.content)\n",
    "\n",
    "# Extract and transform TMX data\n",
    "def transform_tmx_data(file_path):\n",
    "    translations = []\n",
    "    with gzip.open(file_path, 'rt', encoding='utf-8') as f:\n",
    "        tree = ET.parse(f)\n",
    "        root = tree.getroot()\n",
    "        \n",
    "        for tu in root.findall(\".//tmx:tu\", namespaces):\n",
    "            source = tu.find(\".//tmx:tuv[@xml:lang='en']/tmx:seg\", namespaces).text\n",
    "            target = tu.find(\".//tmx:tuv[@xml:lang='ar']/tmx:seg\", namespaces).text\n",
    "            translations.append((source, target))\n",
    "    \n",
    "    return translations\n",
    "\n",
    "# Load data into SQLite database\n",
    "def load_data_into_database(data, database_path):\n",
    "    conn = sqlite3.connect(database_path)\n",
    "    cursor = conn.cursor()\n",
    "    \n",
    "    cursor.execute('''CREATE TABLE IF NOT EXISTS translations (source TEXT, target TEXT)''')\n",
    "    \n",
    "    cursor.executemany(\"INSERT INTO translations (source, target) VALUES (?, ?)\", data)\n",
    "    \n",
    "    conn.commit()\n",
    "    conn.close()\n",
    "\n",
    "# Main function\n",
    "def main():\n",
    "    # Step 1: Download the TMX file\n",
    "    if not os.path.exists(tmx_file_path):\n",
    "        print(\"Downloading the TMX file...\")\n",
    "        download_tmx_file(tmx_url, tmx_file_path)\n",
    "    \n",
    "    # Step 2: Transform TMX data\n",
    "    print(\"Transforming TMX data...\")\n",
    "    transformed_data = transform_tmx_data(tmx_file_path)\n",
    "    \n",
    "    # Step 3: Load data into the database\n",
    "    database_path = \"translations.db\"\n",
    "    print(\"Loading data into the database...\")\n",
    "    load_data_into_database(transformed_data, database_path)\n",
    "    \n",
    "    print(\"ETL process completed successfully!\")\n",
    "\n",
    "if __name__ == \"__main__\":\n",
    "    main()\n"
   ]
  },
  {
   "cell_type": "code",
   "execution_count": null,
   "id": "1dad1e03",
   "metadata": {},
   "outputs": [],
   "source": []
  }
 ],
 "metadata": {
  "kernelspec": {
   "display_name": "Python 3 (ipykernel)",
   "language": "python",
   "name": "python3"
  },
  "language_info": {
   "codemirror_mode": {
    "name": "ipython",
    "version": 3
   },
   "file_extension": ".py",
   "mimetype": "text/x-python",
   "name": "python",
   "nbconvert_exporter": "python",
   "pygments_lexer": "ipython3",
   "version": "3.10.9"
  }
 },
 "nbformat": 4,
 "nbformat_minor": 5
}
